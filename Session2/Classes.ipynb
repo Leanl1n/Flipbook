{
 "cells": [
  {
   "cell_type": "markdown",
   "id": "ca0ba27c",
   "metadata": {},
   "source": [
    "# Introduction to Python Classes\n",
    "A beginner-friendly guide to understanding Python Classes"
   ]
  },
  {
   "cell_type": "markdown",
   "id": "definitions-section",
   "metadata": {},
   "source": [
    "## Key Definitions\n",
    "\n",
    "### What is a Class?\n",
    "A class is a blueprint for creating objects. It defines a set of attributes and methods that the objects of that class will have. Think of it like a template for creating specific instances.\n",
    "\n",
    "### Key Terminology\n",
    "- **Object**: An instance of a class\n",
    "- **Attribute**: A variable that stores data within a class\n",
    "- **Method**: A function defined inside a class\n",
    "- **Constructor (`__init__`)**: A special method that initializes a new object\n",
    "- **Self**: A reference to the current instance of the class\n",
    "\n",
    "### Why Use Classes?\n",
    "1. Organize and structure code\n",
    "2. Create reusable and modular code\n",
    "3. Model real-world entities and their behaviors\n",
    "4. Implement object-oriented programming principles"
   ]
  },
  {
   "cell_type": "markdown",
   "id": "446a3255",
   "metadata": {},
   "source": [
    "## 1. Creating Your First Class\n",
    "Let's start by creating a simple `Pet` class to understand the basic structure of Python classes."
   ]
  },
  {
   "cell_type": "code",
   "execution_count": null,
   "id": "6a033829",
   "metadata": {},
   "outputs": [],
   "source": [
    "class Pet:\n",
    "    def __init__(self, name, age):\n",
    "        self.name = name\n",
    "        self.age = age\n",
    "\n",
    "# Create our first pet\n",
    "my_pet = Pet(\"Buddy\", 3)\n",
    "print(f\"Pet name: {my_pet.name}\")\n",
    "print(f\"Pet age: {my_pet.age}\")"
   ]
  },
  {
   "cell_type": "markdown",
   "id": "b0b6caaa",
   "metadata": {},
   "source": [
    "## 2. Understanding Objects and Attributes\n",
    "Now let's create multiple pet objects to see how each object maintains its own data."
   ]
  },
  {
   "cell_type": "code",
   "execution_count": null,
   "id": "1577bfc8",
   "metadata": {},
   "outputs": [],
   "source": [
    "# Creating multiple pet objects\n",
    "dog = Pet(\"Max\", 4)\n",
    "cat = Pet(\"Luna\", 2)\n",
    "hamster = Pet(\"Tiny\", 1)\n",
    "\n",
    "# Accessing and modifying attributes\n",
    "print(\"Original ages:\")\n",
    "print(f\"{dog.name}: {dog.age}\")\n",
    "print(f\"{cat.name}: {cat.age}\")\n",
    "print(f\"{hamster.name}: {hamster.age}\")\n",
    "\n",
    "# Modify an attribute\n",
    "dog.age = 5\n",
    "print(f\"\\nAfter modifying {dog.name}'s age: {dog.age}\")"
   ]
  },
  {
   "cell_type": "markdown",
   "id": "db6fd3fa",
   "metadata": {},
   "source": [
    "## 3. Working with Methods\n",
    "Let's add some methods to our Pet class to make it more interactive."
   ]
  },
  {
   "cell_type": "code",
   "execution_count": null,
   "id": "9f3b9f3b",
   "metadata": {},
   "outputs": [],
   "source": [
    "class Pet:\n",
    "    def __init__(self, name, age):\n",
    "        self.name = name\n",
    "        self.age = age\n",
    "    \n",
    "    def make_sound(self, sound):\n",
    "        return f\"{self.name} says {sound}!\"\n",
    "    \n",
    "    def celebrate_birthday(self):\n",
    "        self.age += 1\n",
    "        return f\"Happy Birthday {self.name}! You are now {self.age} years old!\"\n",
    "\n",
    "# Testing our methods\n",
    "my_dog = Pet(\"Rocky\", 2)\n",
    "print(my_dog.make_sound(\"Woof\"))\n",
    "print(my_dog.celebrate_birthday())"
   ]
  },
  {
   "cell_type": "markdown",
   "id": "new-section-inheritance",
   "metadata": {},
   "source": [
    "## 4. Understanding Class Inheritance\n",
    "Inheritance allows us to create new classes based on existing classes, inheriting their attributes and methods.\n",
    "\n",
    "### Key Inheritance Concepts\n",
    "- **Base/Parent Class**: The original class being inherited from\n",
    "- **Derived/Child Class**: The new class that inherits from the base class\n",
    "- **`super()`**: A function to call methods from the parent class\n",
    "- **Method Overriding**: Redefining a method inherited from the parent class"
   ]
  },
  {
   "cell_type": "code",
   "execution_count": null,
   "id": "inheritance-example",
   "metadata": {},
   "outputs": [],
   "source": [
    "# Base class\n",
    "class Animal:\n",
    "    def __init__(self, name, species):\n",
    "        self.name = name\n",
    "        self.species = species\n",
    "    \n",
    "    def make_sound(self):\n",
    "        return \"Some generic animal sound\"\n",
    "\n",
    "# Derived classes inheriting from Animal\n",
    "class Dog(Animal):\n",
    "    def __init__(self, name, breed):\n",
    "        # Call the parent class constructor\n",
    "        super().__init__(name, species=\"Dog\")\n",
    "        self.breed = breed\n",
    "    \n",
    "    # Override the make_sound method\n",
    "    def make_sound(self):\n",
    "        return \"Woof!\"\n",
    "    \n",
    "    # Add a new method specific to Dog\n",
    "    def fetch(self):\n",
    "        return f\"{self.name} is fetching the ball!\"\n",
    "\n",
    "class Cat(Animal):\n",
    "    def __init__(self, name, color):\n",
    "        # Call the parent class constructor\n",
    "        super().__init__(name, species=\"Cat\")\n",
    "        self.color = color\n",
    "    \n",
    "    # Override the make_sound method\n",
    "    def make_sound(self):\n",
    "        return \"Meow!\"\n",
    "    \n",
    "    # Add a new method specific to Cat\n",
    "    def scratch(self):\n",
    "        return f\"{self.name} is scratching the furniture!\"\n",
    "\n",
    "# Demonstrating inheritance\n",
    "buddy = Dog(\"Buddy\", \"Golden Retriever\")\n",
    "whiskers = Cat(\"Whiskers\", \"Tabby\")\n",
    "\n",
    "print(f\"{buddy.name} is a {buddy.species} of breed {buddy.breed}\")\n",
    "print(buddy.make_sound())\n",
    "print(buddy.fetch())\n",
    "\n",
    "print(f\"\\n{whiskers.name} is a {whiskers.species} with {whiskers.color} color\")\n",
    "print(whiskers.make_sound())\n",
    "print(whiskers.scratch())"
   ]
  },
  {
   "cell_type": "markdown",
   "id": "ac435276",
   "metadata": {},
   "source": [
    "## 5. Building a Simple Game Character\n",
    "Let's create a GameCharacter class that demonstrates additional object-oriented programming concepts."
   ]
  },
  {
   "cell_type": "code",
   "execution_count": null,
   "id": "9f92958e",
   "metadata": {},
   "outputs": [],
   "source": [
    "class GameCharacter:\n",
    "    def __init__(self, name, health=100, strength=10):\n",
    "        self.name = name\n",
    "        self.health = health\n",
    "        self.strength = strength\n",
    "    \n",
    "    def attack(self, target):\n",
    "        damage = self.strength\n",
    "        target.health -= damage\n",
    "        return f\"{self.name} attacks {target.name} for {damage} damage!\"\n",
    "    \n",
    "    def heal(self, amount=10):\n",
    "        self.health += amount\n",
    "        return f\"{self.name} heals for {amount} health points!\"\n",
    "    \n",
    "    def status(self):\n",
    "        return f\"{self.name} - Health: {self.health}, Strength: {self.strength}\"\n",
    "\n",
    "# Create and test game characters\n",
    "hero = GameCharacter(\"Hero\", health=100, strength=15)\n",
    "enemy = GameCharacter(\"Dragon\", health=150, strength=20)\n",
    "\n",
    "print(hero.status())\n",
    "print(enemy.status())\n",
    "print(hero.attack(enemy))\n",
    "print(enemy.status())\n",
    "print(enemy.heal())\n",
    "print(enemy.status())"
   ]
  }
 ],
 "metadata": {
  "kernelspec": {
   "display_name": "Python 3",
   "language": "python",
   "name": "python3"
  },
  "language_info": {
   "codemirror_mode": {
    "name": "ipython",
    "version": 3
   },
   "file_extension": ".py",
   "mimetype": "text/x-python",
   "name": "python",
   "nbconvert_exporter": "python",
   "pygments_lexer": "ipython3",
   "version": "3.10.6"
  }
 },
 "nbformat": 4,
 "nbformat_minor": 5
}
