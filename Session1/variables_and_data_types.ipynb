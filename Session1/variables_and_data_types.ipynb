{
 "cells": [
  {
   "cell_type": "markdown",
   "metadata": {},
   "source": [
    "__Variables__\n",
    "\n",
    "In Python, a variable is a name that refers to a value stored in memory. \n",
    "\n",
    "You don't need to declare the type of a variable before using it."
   ]
  },
  {
   "cell_type": "code",
   "execution_count": null,
   "metadata": {},
   "outputs": [],
   "source": [
    "# Basic variable assignment\n",
    "name = \"Lean\"\n",
    "age = 22\n",
    "height = 5.7\n",
    "is_student = False"
   ]
  },
  {
   "cell_type": "markdown",
   "metadata": {},
   "source": [
    "Python's __print()__ and __input()__ Functions\n",
    "\n",
    "<font color=\"#FF5733\">print()</font> Function\n",
    "\n",
    "The print() function displays output to the console or terminal. It's one of the most basic and frequently used functions in Python."
   ]
  },
  {
   "cell_type": "code",
   "execution_count": null,
   "metadata": {},
   "outputs": [],
   "source": [
    "print(name)\n",
    "print(age)\n",
    "print(height)\n",
    "print(is_student)"
   ]
  },
  {
   "cell_type": "markdown",
   "metadata": {},
   "source": [
    "<font color=\"#FF5733\">input()</font> Function\n",
    "\n",
    "The input() function reads user input from the console, allowing for interactive programs."
   ]
  },
  {
   "cell_type": "code",
   "execution_count": null,
   "metadata": {},
   "outputs": [],
   "source": [
    "name = input(\"Enter your name: \")\n",
    "print(\"Hello\", name)"
   ]
  },
  {
   "cell_type": "markdown",
   "metadata": {},
   "source": [
    "__Common Data Types__\n",
    "\n",
    "<font color=\"#FF5733\">Strings</font>\n",
    "\n",
    "1. Strings are sequences of characters enclosed in quotes."
   ]
  },
  {
   "cell_type": "code",
   "execution_count": 14,
   "metadata": {},
   "outputs": [],
   "source": [
    "# String examples\n",
    "first_name = \"Lean Lerry\"\n",
    "last_name = 'Delgado'\n",
    "multi_line = \"\"\"This is a\n",
    "multi-line string\"\"\"\n",
    "\n",
    "# String operations\n",
    "full_name = first_name + \" \" + last_name  # Concatenation\n",
    "greeting = f\"Hello, {full_name}!\"  # f-string formatting\n",
    "uppercase = full_name.upper()  # Methods\n",
    "length = len(full_name)  # Functions"
   ]
  },
  {
   "cell_type": "markdown",
   "metadata": {},
   "source": [
    "<font color=\"#FF5733\">Numbers</font>\n",
    "\n",
    "2. Python has several numeric types including integers and floating-point numbers."
   ]
  },
  {
   "cell_type": "code",
   "execution_count": 22,
   "metadata": {},
   "outputs": [],
   "source": [
    "# Integer examples\n",
    "count = 42\n",
    "negative = -10\n",
    "big_number = 1_000_000  # Underscores for readability\n",
    "\n",
    "# Float examples\n",
    "pi = 3.14159\n",
    "temperature = -2.5\n",
    "\n",
    "# Numeric operations\n",
    "sum_value = 10 + 5  # Addition\n",
    "product = 4 * 5  # Multiplication\n",
    "power = 2 ** 3  # Exponentiation (2³ = 8)\n",
    "division = 10 / 3  # Returns float: 3.3333...\n",
    "integer_division = 10 // 3  # Returns integer: 3\n",
    "remainder = 10 % 3  # Modulo (remainder): 1"
   ]
  },
  {
   "cell_type": "markdown",
   "metadata": {},
   "source": [
    "<font color=\"#FF5733\">Booleans</font>\n",
    "\n",
    "3. Boolean values represent Truth or False."
   ]
  },
  {
   "cell_type": "code",
   "execution_count": 23,
   "metadata": {},
   "outputs": [],
   "source": [
    "is_active = True\n",
    "has_permission = False\n",
    "\n",
    "# Boolean operations\n",
    "is_valid = is_active and has_permission  # Logical AND\n",
    "can_login = is_active or has_permission  # Logical OR\n",
    "is_inactive = not is_active  # Logical NOT"
   ]
  },
  {
   "cell_type": "markdown",
   "metadata": {},
   "source": [
    "<font color=\"#FF5733\">Lists</font>\n",
    "\n",
    "4. Lists are ordered collections that can store multiple items of any type. They're enclosed in square brackets and separated by commas. Lists are mutable, meaning you can change their contents after creation."
   ]
  },
  {
   "cell_type": "code",
   "execution_count": null,
   "metadata": {},
   "outputs": [],
   "source": [
    "# Creating a list\n",
    "fruits = [\"apple\", \"banana\", \"orange\", \"grape\"]\n",
    "\n",
    "# Accessing list elements (indexing starts at 0)\n",
    "first_fruit = fruits[0]  # \"apple\"\n",
    "last_fruit = fruits[-1]  # \"grape\"\n",
    "\n",
    "# Modifying lists\n",
    "fruits[1] = \"pear\"  # Replace an item\n",
    "fruits.append(\"mango\")  # Add to the end\n",
    "fruits.insert(0, \"strawberry\")  # Insert at position\n",
    "\n",
    "# Removing items\n",
    "fruits.remove(\"orange\")  # Remove by value\n",
    "popped_fruit = fruits.pop()  # Remove and return the last item\n",
    "del fruits[0]  # Delete by index"
   ]
  },
  {
   "cell_type": "markdown",
   "metadata": {},
   "source": [
    "<font color=\"#FF5733\">Tuples</font>\n",
    "\n",
    "5. Tuples are ordered, immutable collections."
   ]
  },
  {
   "cell_type": "code",
   "execution_count": 24,
   "metadata": {},
   "outputs": [],
   "source": [
    "# Tuple examples\n",
    "coordinates = (10, 20)\n",
    "rgb = (255, 0, 0)\n",
    "\n",
    "# Accessing elements\n",
    "x = coordinates[0]  # 10\n",
    "y = coordinates[1]  # 20\n",
    "\n",
    "# Tuple unpacking\n",
    "x, y = coordinates\n",
    "r, g, b = rgb"
   ]
  },
  {
   "cell_type": "markdown",
   "metadata": {},
   "source": [
    "<font color=\"#FF5733\">Dictionaries</font>\n",
    "\n",
    "6. Dictionaries store key-value pairs."
   ]
  },
  {
   "cell_type": "code",
   "execution_count": 25,
   "metadata": {},
   "outputs": [],
   "source": [
    "# Dictionary examples\n",
    "person = {\n",
    "    \"name\": \"Alice\",\n",
    "    \"age\": 30,\n",
    "    \"is_student\": False\n",
    "}\n",
    "\n",
    "# Accessing values\n",
    "name = person[\"name\"]  # Using key\n",
    "age = person.get(\"age\", 0)  # Using get() with default\n",
    "\n",
    "# Modifying dictionaries\n",
    "person[\"email\"] = \"alice@example.com\"  # Add new key-value pair\n",
    "person[\"age\"] = 31  # Update existing value\n",
    "del person[\"is_student\"]  # Remove key-value pair"
   ]
  },
  {
   "cell_type": "markdown",
   "metadata": {},
   "source": [
    "<font color=\"#FF5733\">Sets</font>\n",
    "\n",
    "7. Sets are unordered collections of unique items."
   ]
  },
  {
   "cell_type": "code",
   "execution_count": 26,
   "metadata": {},
   "outputs": [],
   "source": [
    "# Set examples\n",
    "unique_numbers = {1, 2, 3, 4, 5}\n",
    "fruits_set = {\"apple\", \"banana\", \"cherry\"}\n",
    "\n",
    "# Set operations\n",
    "unique_numbers.add(6)  # Add element\n",
    "fruits_set.remove(\"banana\")  # Remove element\n",
    "union = unique_numbers | {5, 6, 7}  # Union\n",
    "intersection = unique_numbers & {4, 5, 6}  # Intersection"
   ]
  },
  {
   "cell_type": "markdown",
   "metadata": {},
   "source": [
    "<font color=\"#FF5733\">None</font>\n",
    "\n",
    "8. None represents the absence of a value."
   ]
  },
  {
   "cell_type": "code",
   "execution_count": 27,
   "metadata": {},
   "outputs": [],
   "source": [
    "# None example\n",
    "result = None"
   ]
  },
  {
   "cell_type": "markdown",
   "metadata": {},
   "source": [
    "<font color=\"#FF5733\">Type Conversion</font>\n",
    "\n",
    "Python allows conversion between data types:"
   ]
  },
  {
   "cell_type": "code",
   "execution_count": null,
   "metadata": {},
   "outputs": [],
   "source": [
    "# Type conversion examples\n",
    "age_str = \"30\"\n",
    "age_int = int(age_str)  # String to integer\n",
    "\n",
    "price = 19.99\n",
    "price_int = int(price)  # Float to integer (truncates to 19)\n",
    "price_str = str(price)  # Float to string\n",
    "\n",
    "is_active_str = str(True)  # Boolean to string (\"True\")"
   ]
  },
  {
   "cell_type": "markdown",
   "metadata": {},
   "source": [
    "<font color=\"#FF5733\">Checking Data Types</font>\n",
    "\n",
    "You can check the type of a variable using the type() function:"
   ]
  },
  {
   "cell_type": "code",
   "execution_count": null,
   "metadata": {},
   "outputs": [],
   "source": [
    "type(\"Lean\")  # <class 'str'>\n",
    "type(42)       # <class 'int'>\n",
    "type(3.14)     # <class 'float'>\n",
    "type(True)     # <class 'bool'>\n",
    "type([1, 2])   # <class 'list'>\n",
    "type((1, 2))   # <class 'tuple'>\n",
    "type({\"a\": 1}) # <class 'dict'>"
   ]
  },
  {
   "cell_type": "markdown",
   "metadata": {},
   "source": [
    "Mad Lib Advance"
   ]
  },
  {
   "cell_type": "code",
   "execution_count": null,
   "metadata": {},
   "outputs": [],
   "source": [
    "# Get user inputs\n",
    "adjective = input(\"Enter an adjective: \")\n",
    "noun = input(\"Enter a noun: \")\n",
    "verb = input(\"Enter a verb: \")\n",
    "place = input(\"Enter a place: \")\n",
    "\n",
    "# Love story template\n",
    "story = f\"\"\"\n",
    "It was a {adjective} evening when a {noun} walked into the {place}. \n",
    "Little did they know, fate had a plan.\n",
    "\n",
    "Across the room, someone was about to {verb}, but then their eyes met. \n",
    "Time slowed. The air crackled with something electric. \n",
    "\n",
    "Was it love? Destiny? Or just the smell of burnt toast? \n",
    "Only time would tell...\n",
    "\"\"\"\n",
    "\n",
    "# Print the story\n",
    "print(\"\\nHere is your Mad Libs love story:\\n\")\n",
    "print(story)"
   ]
  }
 ],
 "metadata": {
  "kernelspec": {
   "display_name": "Python 3",
   "language": "python",
   "name": "python3"
  },
  "language_info": {
   "codemirror_mode": {
    "name": "ipython",
    "version": 3
   },
   "file_extension": ".py",
   "mimetype": "text/x-python",
   "name": "python",
   "nbconvert_exporter": "python",
   "pygments_lexer": "ipython3",
   "version": "3.12.8"
  }
 },
 "nbformat": 4,
 "nbformat_minor": 2
}
